{
 "cells": [
  {
   "cell_type": "markdown",
   "metadata": {},
   "source": [
    "## 2. Data"
   ]
  },
  {
   "cell_type": "markdown",
   "metadata": {},
   "source": [
    "### 2.1 Data sources"
   ]
  },
  {
   "cell_type": "markdown",
   "metadata": {},
   "source": [
    "#### 2.1.1 Foursquare API"
   ]
  },
  {
   "cell_type": "markdown",
   "metadata": {},
   "source": [
    "To achieve the objective, the Foursquare Places API will be used for presenting very complete data and a free plan that meets the project's demand. Thus, it will be possible to use Foursquare data to find the neighborhoods that are closest to the target neighborhood using an unsupervised algorithm."
   ]
  },
  {
   "cell_type": "markdown",
   "metadata": {},
   "source": [
    "##### 2.1.1.1 Explore endpoint"
   ]
  },
  {
   "cell_type": "markdown",
   "metadata": {},
   "source": [
    "The API provides several functions through specific endpoints. Thus, it is possible to search for specific locations or even find locations close to a certain point."
   ]
  },
  {
   "cell_type": "markdown",
   "metadata": {},
   "source": [
    "For the present work, the endpoint \"/explore\" will be used to explore the places close to a certain point. This point is passed as a parameter in the request made, below are the parameters necessary to carry out the request:\n",
    "- ll: Latitude and Longitude of center of search;\n",
    "- radius: Radius of search in meters;\n",
    "- client_id: Value of the account for authentication;\n",
    "- client_secret: Values of the account for authentication;\n",
    "- limit: Maximum number of results.\n",
    "\n",
    "There are other items but only those important for the execution of the project were explained.\n",
    "\n",
    "A typical endpoint request has the following format:\n",
    "```python\n",
    "'https://api.foursquare.com/v2/venues/explore?ll=XXXX,XXXX&radiu=XXX&limit=XXX&client_id=XXXX&client_secret=XXXX'\n",
    "```"
   ]
  },
  {
   "cell_type": "markdown",
   "metadata": {},
   "source": [
    "As a response, the following items are received:\n",
    "- groups: An array of objects representing groups of recommendations.\n",
    "\n",
    "There are other items but only those important for the execution of the project were explained."
   ]
  },
  {
   "cell_type": "markdown",
   "metadata": {},
   "source": [
    "#### 2.1.2 Zap Imóveis"
   ]
  },
  {
   "cell_type": "markdown",
   "metadata": {},
   "source": [
    "As for the rental price of the properties, the Zap Imóveis apartments website will be used, where the data provided by them will be scrapped. Soon, it will be possible to have real estate price information in each of the neighborhoods analyzed and, consequently, find the neighborhood that best meets the characteristics sought."
   ]
  },
  {
   "cell_type": "markdown",
   "metadata": {},
   "source": [
    "The search is done through \"get\" requests, so it is possible to use it as an API, making only a scrap on the results found. Below you can see an image of the site with some values searched.\n",
    "<img src='./tela_principal.PNG'/>"
   ]
  },
  {
   "cell_type": "markdown",
   "metadata": {},
   "source": [
    "Thus, all the resulting pages will be scrolled while the relevant data for each property is saved. The data chosen was:\n",
    "- Price;\n",
    "- Location;\n",
    "- Bedrooms number;\n",
    "- Bathrooms number;\n",
    "- Vacancies number.\n",
    "\n",
    "To simplify and show the true price of the property, the value of the condominium and the value of the property tax, divided by twelve, will be added to the rental price of the property."
   ]
  },
  {
   "cell_type": "markdown",
   "metadata": {},
   "source": [
    "#### 2.1.3 Neighborhoods of the city"
   ]
  },
  {
   "cell_type": "markdown",
   "metadata": {},
   "source": [
    "To obtain data on the neighborhoods present in the city, a <a href='https://pt.wikipedia.org/wiki/Lista_de_bairros_de_Vit%C3%B3ria'>Wikipedia page</a> was used, which lists all the neighborhoods in the city, where it was possible to obtain the names of each one. Latitude and longitude data were obtained using the Google Maps API."
   ]
  }
 ],
 "metadata": {
  "kernelspec": {
   "display_name": "Python 3",
   "language": "python",
   "name": "python3"
  },
  "language_info": {
   "codemirror_mode": {
    "name": "ipython",
    "version": 3
   },
   "file_extension": ".py",
   "mimetype": "text/x-python",
   "name": "python",
   "nbconvert_exporter": "python",
   "pygments_lexer": "ipython3",
   "version": "3.7.0"
  }
 },
 "nbformat": 4,
 "nbformat_minor": 2
}
