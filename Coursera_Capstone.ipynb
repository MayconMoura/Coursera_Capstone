{
  "nbformat": 4,
  "nbformat_minor": 0,
  "metadata": {
    "colab": {
      "name": "Coursera_Capstone.ipynb",
      "provenance": []
    },
    "kernelspec": {
      "name": "python3",
      "display_name": "Python 3"
    }
  },
  "cells": [
    {
      "cell_type": "markdown",
      "metadata": {
        "id": "GUIQGx1Czvu4",
        "colab_type": "text"
      },
      "source": [
        "# The battle of neighborhoods\n",
        "*Coursera capstone*"
      ]
    },
    {
      "cell_type": "markdown",
      "metadata": {
        "id": "pcK7EgmL0PMV",
        "colab_type": "text"
      },
      "source": [
        "This notebook will be used for the coursera capstone project of IBM's Professional Certificate of data science, the battle of neighborhoods.\n"
      ]
    },
    {
      "cell_type": "code",
      "metadata": {
        "id": "Wb3JUs6Cy2hI",
        "colab_type": "code",
        "colab": {}
      },
      "source": [
        "import pandas as pd\n",
        "import numpy as np"
      ],
      "execution_count": 0,
      "outputs": []
    },
    {
      "cell_type": "code",
      "metadata": {
        "id": "i2i9WvojziMx",
        "colab_type": "code",
        "colab": {
          "base_uri": "https://localhost:8080/",
          "height": 34
        },
        "outputId": "8b9b496b-ffbf-4dbf-aa5f-43c240c21754"
      },
      "source": [
        "print('Hello Capstone Project Course!')"
      ],
      "execution_count": 2,
      "outputs": [
        {
          "output_type": "stream",
          "text": [
            "Hello Capstone Project Course!\n"
          ],
          "name": "stdout"
        }
      ]
    }
  ]
}
