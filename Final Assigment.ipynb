{
 "cells": [
  {
   "cell_type": "markdown",
   "metadata": {},
   "source": [
    "# The right price of rent house\n",
    "#### *Apllied data science cousera capstone*"
   ]
  },
  {
   "cell_type": "markdown",
   "metadata": {},
   "source": [
    "## 1. Introduction"
   ]
  },
  {
   "cell_type": "markdown",
   "metadata": {},
   "source": [
    "Dado a grande procura por casas e seus preços, muitas vezes, inflacionados. É preciso pesquisar bastante para conseguir encontrar um apartamento que cabe no seu bolso em um local agradável, e isso demand conhecimentos do local e da cidade. Para facilitar a vida de quem está chegando na cidade agora, este trabalho pretende criar uma forma de encontrar o menor preço da cidade em um bairro que seja parecido com o bairro em que o usuário mora atualmente, ou almeja morar."
   ]
  },
  {
   "cell_type": "markdown",
   "metadata": {},
   "source": [
    "## 2. Development"
   ]
  },
  {
   "cell_type": "markdown",
   "metadata": {},
   "source": [
    "Para atingir o objetivo, será utilziado a API de lugares do Foursquare por apresentar dados bem completos e um plano gratuito que conseguirá atender a demanda do projeto. Assim, será possível utilizar os dados do Foursquare para encontrar as vizinhanças que mais se aproximam da vizinhança alvo através de um algoritmo de aprendizado não supervisionado. \n",
    "\n",
    "Já para o preço dos imóveis, será utilizado o site de anuncio de apartamentos Zapimóveis, onde será feito um scrap dos dados fornecidos por eles. Logo, será possível ter as informações do preço em cada um dos bairros analizados e consequêntemente encontrar o bairro que melhor atende às características procurdas."
   ]
  },
  {
   "cell_type": "markdown",
   "metadata": {},
   "source": [
    "### 2.1 City used as base"
   ]
  },
  {
   "cell_type": "markdown",
   "metadata": {},
   "source": [
    "A cidade escolhida foi Vitória, capital do estado do espírito santo e uma das maiores cidades do Brasil. Com um dos melhores IHD do país é uma cidade muito procurada para quem quer qualidade de vida. Com isso, ela foi escolhida para a utilização do projeto. Pelo seu tamanho, é possível ter dados suficientes para realizar tais estudos e conseguir resultados próximos da realidade."
   ]
  },
  {
   "cell_type": "markdown",
   "metadata": {},
   "source": [
    "#### 2.1.1 Neighborhoods of the city"
   ]
  },
  {
   "cell_type": "markdown",
   "metadata": {},
   "source": [
    "Para conseguir as informações dos bairrosp presentes na cidade foi utilizado a página da wikipédia da mesma, na qual apresenta uma lista com todos os principais bairros da cidade. Então, para usá-la foi necessário realizar um scrap da página da wikipédia."
   ]
  },
  {
   "cell_type": "code",
   "execution_count": null,
   "metadata": {},
   "outputs": [],
   "source": []
  }
 ],
 "metadata": {
  "kernelspec": {
   "display_name": "Python 3",
   "language": "python",
   "name": "python3"
  },
  "language_info": {
   "codemirror_mode": {
    "name": "ipython",
    "version": 3
   },
   "file_extension": ".py",
   "mimetype": "text/x-python",
   "name": "python",
   "nbconvert_exporter": "python",
   "pygments_lexer": "ipython3",
   "version": "3.7.0"
  }
 },
 "nbformat": 4,
 "nbformat_minor": 2
}
