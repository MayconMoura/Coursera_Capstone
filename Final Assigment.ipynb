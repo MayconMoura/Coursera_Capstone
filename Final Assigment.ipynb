{
 "cells": [
  {
   "cell_type": "markdown",
   "metadata": {},
   "source": [
    "# The right price of rent house\n",
    "#### *Apllied data science cousera capstone*"
   ]
  },
  {
   "cell_type": "markdown",
   "metadata": {},
   "source": [
    "## 1. Introduction"
   ]
  },
  {
   "cell_type": "markdown",
   "metadata": {},
   "source": [
    "### 1.1 Backgourd"
   ]
  },
  {
   "cell_type": "markdown",
   "metadata": {},
   "source": [
    "Considerada pela ONU em 2015 como a segunda melhor cidade para se viver no Brasil, a nona melhor cidade para envelhecer e possuindo sete dos vinte bairros com maior IDH do páis, Vitória, quarto maior município e  capital do estado do Espírito Santo no Brasil é um destino muito procurado para se morar. E nada mais complicado do que encontrar uma casa bem localizada em uma cidade desconhecida, já que é difícil reconhecer os lociais em que tem um entorno parecido com o que é desejado."
   ]
  },
  {
   "cell_type": "markdown",
   "metadata": {},
   "source": [
    "### 1.2 Problem"
   ]
  },
  {
   "cell_type": "markdown",
   "metadata": {},
   "source": [
    "Para facilitar a vida de quem está chegando na cidade, este trabalho pretende criar um meio de encontrar o menor preço da cidade em um bairro que seja parecido com o bairro em que o usuário mora atualmente, ou almeja morar."
   ]
  },
  {
   "cell_type": "markdown",
   "metadata": {},
   "source": [
    "### 1.3 Interest"
   ]
  },
  {
   "cell_type": "markdown",
   "metadata": {},
   "source": [
    "Pessoas que querem alugar uma casa na cidade, mas não tem conhecimento para tal, podendo o resultado deste tabalho ser convertido para um serviço vendido diretamente para os clientes."
   ]
  },
  {
   "cell_type": "markdown",
   "metadata": {},
   "source": [
    "## 2. Development"
   ]
  },
  {
   "cell_type": "markdown",
   "metadata": {},
   "source": [
    "### 2.1 Data sources"
   ]
  },
  {
   "cell_type": "markdown",
   "metadata": {},
   "source": [
    "#### 2.1.1 Foursquare API"
   ]
  },
  {
   "cell_type": "markdown",
   "metadata": {},
   "source": [
    "Para atingir o objetivo, será utilziado a API de lugares do Foursquare por apresentar dados bem completos e um plano gratuito que conseguirá atender a demanda do projeto. Assim, será possível utilizar os dados do Foursquare para encontrar as vizinhanças que mais se aproximam da vizinhança alvo através de um algoritmo não supervisionado. "
   ]
  },
  {
   "cell_type": "markdown",
   "metadata": {},
   "source": [
    "##### 2.1.1.1 Explore endpoint"
   ]
  },
  {
   "cell_type": "markdown",
   "metadata": {},
   "source": [
    "A api fornece várias funções atraves de endpoints específicos. Assim, é possível buscar locais específicos ou mesmo encontrar locais próximos a um determinado ponto."
   ]
  },
  {
   "cell_type": "markdown",
   "metadata": {},
   "source": [
    "Para o presente trabalho, será utilizado o endpoint \"/explore\" que permite explorar os locais próximos a um determinado ponto. Esse ponto é passado como um parâmetro na requisição feita, abaixo têm o parâmetros necessários para realizar a requisição.\n",
    "- ll: Latitude and Longitude of center of search;\n",
    "- radius: Radius of search in meters;\n",
    "- client_id: Value of the account for authentication;\n",
    "- client_secret: Values of the account for authentication;\n",
    "- limit: Maximum number of results."
   ]
  },
  {
   "cell_type": "markdown",
   "metadata": {},
   "source": [
    "Uma típica requisição para o endpoint tem o seguinte formato:\n",
    "```python\n",
    "'https://api.foursquare.com/v2/venues/explore?ll=XXXX,XXXX&radiu=XXX&limit=XXX&client_id=XXXX&client_secret=XXXX'\n",
    "```"
   ]
  },
  {
   "cell_type": "markdown",
   "metadata": {},
   "source": [
    "Já como resposta é recebido os seguintes itens:\n",
    "- "
   ]
  },
  {
   "cell_type": "markdown",
   "metadata": {},
   "source": []
  },
  {
   "cell_type": "markdown",
   "metadata": {},
   "source": [
    "#### 2.1.2 Zap Imóveis"
   ]
  },
  {
   "cell_type": "markdown",
   "metadata": {},
   "source": [
    "Já para o preço dos imóveis, será utilizado o site de anuncio de apartamentos Zap Imóveis, onde será feito um scrap dos dados fornecidos por eles. Logo, será possível ter as informações do preço de imóveis em cada um dos bairros analizados e consequêntemente encontrar o bairro que melhor atende às características procurdas."
   ]
  },
  {
   "cell_type": "markdown",
   "metadata": {},
   "source": []
  },
  {
   "cell_type": "markdown",
   "metadata": {},
   "source": [
    "### 2.2 Neighborhoods of the city"
   ]
  },
  {
   "cell_type": "markdown",
   "metadata": {},
   "source": [
    "Para conseguir as informações dos bairros presentes na cidade foi utilizado a página da wikipédia da mesma, na qual apresenta uma lista com todos os principais bairros da cidade. Então, a partir dessa informação foi montado um data set com os nomes. Não foi necessário"
   ]
  },
  {
   "cell_type": "code",
   "execution_count": null,
   "metadata": {},
   "outputs": [],
   "source": []
  }
 ],
 "metadata": {
  "kernelspec": {
   "display_name": "Python 3",
   "language": "python",
   "name": "python3"
  },
  "language_info": {
   "codemirror_mode": {
    "name": "ipython",
    "version": 3
   },
   "file_extension": ".py",
   "mimetype": "text/x-python",
   "name": "python",
   "nbconvert_exporter": "python",
   "pygments_lexer": "ipython3",
   "version": "3.7.0"
  }
 },
 "nbformat": 4,
 "nbformat_minor": 2
}
